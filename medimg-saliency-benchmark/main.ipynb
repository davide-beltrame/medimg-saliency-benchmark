{
 "cells": [
  {
   "cell_type": "code",
   "execution_count": null,
   "id": "3fa75a12",
   "metadata": {},
   "outputs": [],
   "source": [
    "# Sample 50 images at random from test set, downsample and save to server for annotations"
   ]
  }
 ],
 "metadata": {
  "language_info": {
   "name": "python"
  }
 },
 "nbformat": 4,
 "nbformat_minor": 5
}
